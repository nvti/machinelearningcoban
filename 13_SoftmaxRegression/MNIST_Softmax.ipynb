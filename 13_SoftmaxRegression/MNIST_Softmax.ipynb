{
 "cells": [
  {
   "cell_type": "code",
   "execution_count": 2,
   "metadata": {},
   "outputs": [
    {
     "name": "stdout",
     "output_type": "stream",
     "text": [
      "Accuracy: 92.59 %\n"
     ]
    }
   ],
   "source": [
    "# %reset\n",
    "import numpy as np \n",
    "from mnist import MNIST\n",
    "import matplotlib.pyplot as plt\n",
    "from sklearn import linear_model\n",
    "from sklearn.metrics import accuracy_score\n",
    "\n",
    "mntrain = MNIST('../MNIST/')\n",
    "mntrain.load_training()\n",
    "Xtrain = np.asarray(mntrain.train_images)/255.0\n",
    "ytrain = np.array(mntrain.train_labels.tolist())\n",
    "\n",
    "mntest = MNIST('../MNIST/')\n",
    "mntest.load_testing()\n",
    "Xtest = np.asarray(mntest.test_images)/255.0\n",
    "ytest = np.array(mntest.test_labels.tolist())\n",
    "\n",
    "# train\n",
    "logreg = linear_model.LogisticRegression(C=1e5, \n",
    "        solver = 'lbfgs', multi_class = 'multinomial')\n",
    "logreg.fit(Xtrain, ytrain)\n",
    "\n",
    "# test\n",
    "y_pred = logreg.predict(Xtest)\n",
    "print \"Accuracy: %.2f %%\" %(100*accuracy_score(ytest, y_pred.tolist()))\n"
   ]
  }
 ],
 "metadata": {
  "kernelspec": {
   "display_name": "Python 2",
   "language": "python",
   "name": "python2"
  },
  "language_info": {
   "codemirror_mode": {
    "name": "ipython",
    "version": 2
   },
   "file_extension": ".py",
   "mimetype": "text/x-python",
   "name": "python",
   "nbconvert_exporter": "python",
   "pygments_lexer": "ipython2",
   "version": "2.7.12"
  }
 },
 "nbformat": 4,
 "nbformat_minor": 2
}
